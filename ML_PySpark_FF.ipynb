{
 "cells": [
  {
   "cell_type": "markdown",
   "metadata": {},
   "source": [
    "### Import the necessary libraries"
   ]
  },
  {
   "cell_type": "code",
   "execution_count": 2,
   "metadata": {},
   "outputs": [],
   "source": [
    "from pyspark import SparkContext\n",
    "from pyspark.sql import SparkSession\n",
    "# sc = SparkContext('local[*]')\n",
    "# spark = SparkSession(sc)"
   ]
  },
  {
   "cell_type": "markdown",
   "metadata": {},
   "source": [
    "### Create a SparkSession"
   ]
  },
  {
   "cell_type": "code",
   "execution_count": 3,
   "metadata": {},
   "outputs": [],
   "source": [
    "spark = SparkSession.builder.master('local').getOrCreate()"
   ]
  },
  {
   "cell_type": "markdown",
   "metadata": {},
   "source": [
    "### Load data into a PySpark Dataframe"
   ]
  },
  {
   "cell_type": "code",
   "execution_count": 4,
   "metadata": {},
   "outputs": [],
   "source": [
    "# reading in pyspark df\n",
    "spark_df = spark.read.csv(\"./Documents/Flatiron/forestfires.csv\", header = 'true', inferSchema = 'true')"
   ]
  },
  {
   "cell_type": "code",
   "execution_count": 5,
   "metadata": {},
   "outputs": [
    {
     "data": {
      "text/plain": [
       "pyspark.sql.dataframe.DataFrame"
      ]
     },
     "execution_count": 5,
     "metadata": {},
     "output_type": "execute_result"
    }
   ],
   "source": [
    "# observing datatype of df\n",
    "type(spark_df)"
   ]
  },
  {
   "cell_type": "code",
   "execution_count": 6,
   "metadata": {},
   "outputs": [
    {
     "data": {
      "text/plain": [
       "Row(X=7, Y=5, month='mar', day='fri', FFMC=86.2, DMC=26.2, DC=94.3, ISI=5.1, temp=8.2, RH=51, wind=6.7, rain=0.0, area=0.0)"
      ]
     },
     "execution_count": 6,
     "metadata": {},
     "output_type": "execute_result"
    }
   ],
   "source": [
    "spark_df.head()"
   ]
  },
  {
   "cell_type": "code",
   "execution_count": 7,
   "metadata": {},
   "outputs": [
    {
     "data": {
      "text/plain": [
       "['X',\n",
       " 'Y',\n",
       " 'month',\n",
       " 'day',\n",
       " 'FFMC',\n",
       " 'DMC',\n",
       " 'DC',\n",
       " 'ISI',\n",
       " 'temp',\n",
       " 'RH',\n",
       " 'wind',\n",
       " 'rain',\n",
       " 'area']"
      ]
     },
     "execution_count": 7,
     "metadata": {},
     "output_type": "execute_result"
    }
   ],
   "source": [
    "spark_df.columns"
   ]
  },
  {
   "cell_type": "code",
   "execution_count": 8,
   "metadata": {},
   "outputs": [
    {
     "data": {
      "text/plain": [
       "DataFrame[month: string, day: string, rain: double]"
      ]
     },
     "execution_count": 8,
     "metadata": {},
     "output_type": "execute_result"
    }
   ],
   "source": [
    "# select multiple columns\n",
    "spark_df[['month', 'day', 'rain']]"
   ]
  },
  {
   "cell_type": "code",
   "execution_count": 9,
   "metadata": {},
   "outputs": [],
   "source": [
    "# spark dataframe methods kept\n",
    "col_rain = spark_df.select('rain')"
   ]
  },
  {
   "cell_type": "code",
   "execution_count": 10,
   "metadata": {},
   "outputs": [
    {
     "data": {
      "text/plain": [
       "Column<b'rain'>"
      ]
     },
     "execution_count": 10,
     "metadata": {},
     "output_type": "execute_result"
    }
   ],
   "source": [
    "# simply select one column, pandas likewise \n",
    "spark_df['rain']"
   ]
  },
  {
   "cell_type": "code",
   "execution_count": 11,
   "metadata": {},
   "outputs": [
    {
     "data": {
      "text/plain": [
       "[('X', 'int'),\n",
       " ('Y', 'int'),\n",
       " ('month', 'string'),\n",
       " ('day', 'string'),\n",
       " ('FFMC', 'double'),\n",
       " ('DMC', 'double'),\n",
       " ('DC', 'double'),\n",
       " ('ISI', 'double'),\n",
       " ('temp', 'double'),\n",
       " ('RH', 'int'),\n",
       " ('wind', 'double'),\n",
       " ('rain', 'double'),\n",
       " ('area', 'double')]"
      ]
     },
     "execution_count": 11,
     "metadata": {},
     "output_type": "execute_result"
    }
   ],
   "source": [
    "spark_df.dtypes"
   ]
  },
  {
   "cell_type": "code",
   "execution_count": 12,
   "metadata": {},
   "outputs": [
    {
     "data": {
      "text/plain": [
       "DataFrame[month: string, avg(area): double]"
      ]
     },
     "execution_count": 12,
     "metadata": {},
     "output_type": "execute_result"
    }
   ],
   "source": [
    "# correlation between month and fire area\n",
    "spark_df_months = spark_df.groupBy('month').agg({'area' : 'mean'})\n",
    "spark_df_months"
   ]
  },
  {
   "cell_type": "code",
   "execution_count": 13,
   "metadata": {},
   "outputs": [
    {
     "data": {
      "text/plain": [
       "[Row(month='jun', avg(area)=5.841176470588234),\n",
       " Row(month='aug', avg(area)=12.489076086956521),\n",
       " Row(month='may', avg(area)=19.24),\n",
       " Row(month='feb', avg(area)=6.275),\n",
       " Row(month='sep', avg(area)=17.942616279069753),\n",
       " Row(month='mar', avg(area)=4.356666666666667),\n",
       " Row(month='oct', avg(area)=6.638),\n",
       " Row(month='jul', avg(area)=14.3696875),\n",
       " Row(month='nov', avg(area)=0.0),\n",
       " Row(month='apr', avg(area)=8.891111111111112),\n",
       " Row(month='dec', avg(area)=13.33),\n",
       " Row(month='jan', avg(area)=0.0)]"
      ]
     },
     "execution_count": 13,
     "metadata": {},
     "output_type": "execute_result"
    }
   ],
   "source": [
    "# action\n",
    "spark_df_months.collect()"
   ]
  },
  {
   "cell_type": "markdown",
   "metadata": {},
   "source": [
    "### Conclusion:\n",
    "spread area of wildfire gets larger during summer months"
   ]
  },
  {
   "cell_type": "markdown",
   "metadata": {},
   "source": [
    "### Boolean Mask"
   ]
  },
  {
   "cell_type": "code",
   "execution_count": 14,
   "metadata": {},
   "outputs": [],
   "source": [
    "no_rain = spark_df.filter(spark_df['rain'] == 0.0)\n",
    "some_rain = spark_df.filter(spark_df['rain'] > 0.0)"
   ]
  },
  {
   "cell_type": "code",
   "execution_count": 15,
   "metadata": {},
   "outputs": [
    {
     "name": "stdout",
     "output_type": "stream",
     "text": [
      "+------------------+\n",
      "|         avg(area)|\n",
      "+------------------+\n",
      "|13.023693516699408|\n",
      "+------------------+\n",
      "\n",
      "no rain fire area:  None \n",
      "\n",
      "+---------+\n",
      "|avg(area)|\n",
      "+---------+\n",
      "|  1.62375|\n",
      "+---------+\n",
      "\n",
      "some rain fire area:  None \n",
      "\n"
     ]
    }
   ],
   "source": [
    "from pyspark.sql.functions import mean\n",
    "print('no rain fire area: ', no_rain.select(mean('area')).show(), '\\n')\n",
    "print('some rain fire area: ', some_rain.select(mean('area')).show(), '\\n')"
   ]
  },
  {
   "cell_type": "markdown",
   "metadata": {},
   "source": [
    "### Conclusion: \n",
    "rain plays dominant role in the spread area of wildfire"
   ]
  },
  {
   "cell_type": "markdown",
   "metadata": {},
   "source": [
    "### Seasonal data\n",
    "\n",
    "* summer: June, July, August\n",
    "* winter: December, January, February"
   ]
  },
  {
   "cell_type": "code",
   "execution_count": 17,
   "metadata": {},
   "outputs": [
    {
     "name": "stdout",
     "output_type": "stream",
     "text": [
      "+------------------+\n",
      "|         avg(area)|\n",
      "+------------------+\n",
      "|12.262317596566525|\n",
      "+------------------+\n",
      "\n",
      "summer months fire area None \n",
      "\n",
      "+-----------------+\n",
      "|        avg(area)|\n",
      "+-----------------+\n",
      "|7.918387096774193|\n",
      "+-----------------+\n",
      "\n",
      "winter months fire area None \n",
      "\n"
     ]
    }
   ],
   "source": [
    "summer_months = spark_df.filter(spark_df['month'].isin(['jun', 'jul', 'aug']))\n",
    "winter_months = spark_df.filter(spark_df['month'].isin(['dec', 'jan', 'feb']))\n",
    "\n",
    "print('summer months fire area', summer_months.select(mean('area')).show(), '\\n')\n",
    "print('winter months fire area', winter_months.select(mean('area')).show(), '\\n')"
   ]
  },
  {
   "cell_type": "markdown",
   "metadata": {},
   "source": [
    "### Machine learning"
   ]
  },
  {
   "cell_type": "code",
   "execution_count": 18,
   "metadata": {},
   "outputs": [],
   "source": [
    "from pyspark.ml.regression import RandomForestRegressor\n",
    "from pyspark.ml import feature\n",
    "from pyspark.ml.feature import StringIndexer, VectorAssembler, OneHotEncoder"
   ]
  },
  {
   "cell_type": "markdown",
   "metadata": {},
   "source": [
    "correlation between months and fire area is observed, so we will include this observation in our model. the day of one week, however, is highly unlikely to make any impact on fire. consequently, we will get rid of this attribute from the dataframe in use of model fit."
   ]
  },
  {
   "cell_type": "code",
   "execution_count": 19,
   "metadata": {},
   "outputs": [
    {
     "data": {
      "text/plain": [
       "Row(X=7, Y=5, month='mar', FFMC=86.2, DMC=26.2, DC=94.3, ISI=5.1, temp=8.2, RH=51, wind=6.7, rain=0.0, area=0.0)"
      ]
     },
     "execution_count": 19,
     "metadata": {},
     "output_type": "execute_result"
    }
   ],
   "source": [
    "fire_df = spark_df.drop('day')\n",
    "fire_df.head()"
   ]
  },
  {
   "cell_type": "markdown",
   "metadata": {},
   "source": [
    "to turn string data-type of months into discrete numbers, two steps are employeed as below: \n",
    "\n",
    "* convert string variable into numerical index (`StringIndexer`), e.g. Jan (month_num = 1), Feb (month_num = 2), Mar (month_num = 3), etc.\n",
    "* create dummy variables that correspond to each month (`OneHotEncoder`), e.g. Jan (mon_1), Feb (mon_2), Mar (mon_3), etc.\n",
    "    * mon_1 : 1 0 0 0 0 0 0 0 0 0 0 0\n",
    "    * mon_2 : 0 1 0 0 0 0 0 0 0 0 0 0\n",
    "    * mon_3 : 0 0 1 0 0 0 0 0 0 0 0 0  "
   ]
  },
  {
   "cell_type": "code",
   "execution_count": 20,
   "metadata": {},
   "outputs": [],
   "source": [
    "si = StringIndexer(inputCol='month', outputCol='month_num')\n",
    "reg_model = si.fit(fire_df)\n",
    "new_df = reg_model.transform(fire_df)"
   ]
  },
  {
   "cell_type": "code",
   "execution_count": 21,
   "metadata": {},
   "outputs": [
    {
     "data": {
      "text/plain": [
       "pyspark.ml.feature.StringIndexer"
      ]
     },
     "execution_count": 21,
     "metadata": {},
     "output_type": "execute_result"
    }
   ],
   "source": [
    "# estimator (aka: untrained transformer)\n",
    "type(si)"
   ]
  },
  {
   "cell_type": "code",
   "execution_count": 22,
   "metadata": {},
   "outputs": [
    {
     "data": {
      "text/plain": [
       "pyspark.ml.feature.StringIndexerModel"
      ]
     },
     "execution_count": 22,
     "metadata": {},
     "output_type": "execute_result"
    }
   ],
   "source": [
    "# transformer (aka: trained transformer)\n",
    "type(reg_model)"
   ]
  },
  {
   "cell_type": "code",
   "execution_count": 23,
   "metadata": {},
   "outputs": [
    {
     "data": {
      "text/plain": [
       "['aug',\n",
       " 'sep',\n",
       " 'mar',\n",
       " 'jul',\n",
       " 'feb',\n",
       " 'jun',\n",
       " 'oct',\n",
       " 'apr',\n",
       " 'dec',\n",
       " 'jan',\n",
       " 'may',\n",
       " 'nov']"
      ]
     },
     "execution_count": 23,
     "metadata": {},
     "output_type": "execute_result"
    }
   ],
   "source": [
    "reg_model.labels"
   ]
  },
  {
   "cell_type": "code",
   "execution_count": 24,
   "metadata": {},
   "outputs": [
    {
     "data": {
      "text/plain": [
       "[Row(X=7, Y=5, month='mar', FFMC=86.2, DMC=26.2, DC=94.3, ISI=5.1, temp=8.2, RH=51, wind=6.7, rain=0.0, area=0.0, month_num=2.0),\n",
       " Row(X=7, Y=4, month='oct', FFMC=90.6, DMC=35.4, DC=669.1, ISI=6.7, temp=18.0, RH=33, wind=0.9, rain=0.0, area=0.0, month_num=6.0),\n",
       " Row(X=7, Y=4, month='oct', FFMC=90.6, DMC=43.7, DC=686.9, ISI=6.7, temp=14.6, RH=33, wind=1.3, rain=0.0, area=0.0, month_num=6.0),\n",
       " Row(X=8, Y=6, month='mar', FFMC=91.7, DMC=33.3, DC=77.5, ISI=9.0, temp=8.3, RH=97, wind=4.0, rain=0.2, area=0.0, month_num=2.0)]"
      ]
     },
     "execution_count": 24,
     "metadata": {},
     "output_type": "execute_result"
    }
   ],
   "source": [
    "new_df.head(4)"
   ]
  },
  {
   "cell_type": "markdown",
   "metadata": {},
   "source": [
    "after converting string type of months into numerical ones, we can utilize Spark's `OneHotEncoder()` "
   ]
  },
  {
   "cell_type": "code",
   "execution_count": 25,
   "metadata": {},
   "outputs": [
    {
     "data": {
      "text/plain": [
       "[Row(month_num=8.0),\n",
       " Row(month_num=0.0),\n",
       " Row(month_num=7.0),\n",
       " Row(month_num=1.0),\n",
       " Row(month_num=4.0),\n",
       " Row(month_num=11.0),\n",
       " Row(month_num=3.0),\n",
       " Row(month_num=2.0),\n",
       " Row(month_num=10.0),\n",
       " Row(month_num=6.0),\n",
       " Row(month_num=5.0),\n",
       " Row(month_num=9.0)]"
      ]
     },
     "execution_count": 25,
     "metadata": {},
     "output_type": "execute_result"
    }
   ],
   "source": [
    "new_df.select('month_num').distinct().collect()"
   ]
  },
  {
   "cell_type": "code",
   "execution_count": 26,
   "metadata": {},
   "outputs": [
    {
     "data": {
      "text/plain": [
       "Row(X=7, Y=5, month='mar', FFMC=86.2, DMC=26.2, DC=94.3, ISI=5.1, temp=8.2, RH=51, wind=6.7, rain=0.0, area=0.0, month_num=2.0, month_vec=SparseVector(11, {2: 1.0}))"
      ]
     },
     "execution_count": 26,
     "metadata": {},
     "output_type": "execute_result"
    }
   ],
   "source": [
    "# fitting and transforming OneHotEncoder\n",
    "ohe = feature.OneHotEncoder(inputCols=['month_num'], outputCols=['month_vec'], dropLast=True)\n",
    "one_hot_encoded = ohe.fit(new_df).transform(new_df)\n",
    "one_hot_encoded.head()"
   ]
  },
  {
   "cell_type": "markdown",
   "metadata": {},
   "source": [
    "now we have OneHitEncoded sparse vector as `month_vec`. for instance, month_vec = SparseVector(11, {2: 11.0}) indicates we have a sparse vector of size 11 (because one month is dropped such as `dropLast=True` in order to prevent the collinearity issue: 12 = a + b + c + d + ... + j + k + l) and this particular data point (aka: dp) is the second index (counting from 0, i.e. 0-index vector) of our month labels, that is March based off labels in the `model` StringIndex transformer."
   ]
  },
  {
   "cell_type": "markdown",
   "metadata": {},
   "source": [
    "final Spark dataframe for ML trainign as shown below:"
   ]
  },
  {
   "cell_type": "code",
   "execution_count": 27,
   "metadata": {},
   "outputs": [],
   "source": [
    "features = ['X', 'Y', 'FFMC', 'DMC', 'DC', 'ISI', 'temp', 'RH', 'wind', 'rain', 'month_vec']\n",
    "target = 'area'\n",
    "\n",
    "vector = VectorAssembler(inputCols=features, outputCol='features')\n",
    "vectorized_df = vector.transform(one_hot_encoded)"
   ]
  },
  {
   "cell_type": "markdown",
   "metadata": {},
   "source": [
    "for all ML models in PySpark, we put all of the features of our model into one sparse vector. This is once again for efficiency sake. Above shows that we are putting all features together by `VectorAssembler()` method."
   ]
  },
  {
   "cell_type": "code",
   "execution_count": 28,
   "metadata": {},
   "outputs": [
    {
     "data": {
      "text/plain": [
       "Row(X=7, Y=5, month='mar', FFMC=86.2, DMC=26.2, DC=94.3, ISI=5.1, temp=8.2, RH=51, wind=6.7, rain=0.0, area=0.0, month_num=2.0, month_vec=SparseVector(11, {2: 1.0}), features=SparseVector(21, {0: 7.0, 1: 5.0, 2: 86.2, 3: 26.2, 4: 94.3, 5: 5.1, 6: 8.2, 7: 51.0, 8: 6.7, 12: 1.0}))"
      ]
     },
     "execution_count": 28,
     "metadata": {},
     "output_type": "execute_result"
    }
   ],
   "source": [
    "vectorized_df.head()"
   ]
  },
  {
   "cell_type": "markdown",
   "metadata": {},
   "source": [
    "Now, lets fit our FF data with a `Random Forest Regression` model. "
   ]
  },
  {
   "cell_type": "code",
   "execution_count": 29,
   "metadata": {},
   "outputs": [],
   "source": [
    "## instantiating and fitting the model\n",
    "rf_model = RandomForestRegressor(featuresCol='features', labelCol='area', predictionCol='prediction').fit(vectorized_df)"
   ]
  },
  {
   "cell_type": "code",
   "execution_count": 30,
   "metadata": {},
   "outputs": [
    {
     "data": {
      "text/plain": [
       "SparseVector(21, {0: 0.1045, 1: 0.0935, 2: 0.1443, 3: 0.0757, 4: 0.0905, 5: 0.0549, 6: 0.1122, 7: 0.1206, 8: 0.1441, 9: 0.0, 10: 0.0068, 11: 0.0304, 12: 0.0, 13: 0.0158, 15: 0.0, 16: 0.0008, 17: 0.0031, 18: 0.0004, 20: 0.0023})"
      ]
     },
     "execution_count": 30,
     "metadata": {},
     "output_type": "execute_result"
    }
   ],
   "source": [
    "rf_model.featureImportances"
   ]
  },
  {
   "cell_type": "code",
   "execution_count": 31,
   "metadata": {},
   "outputs": [
    {
     "data": {
      "text/plain": [
       "[Row(area=0.0, prediction=5.124695067988922),\n",
       " Row(area=0.0, prediction=5.20366662659808),\n",
       " Row(area=0.0, prediction=5.960195222909501),\n",
       " Row(area=0.0, prediction=5.94978706040469),\n",
       " Row(area=0.0, prediction=5.4586543208320455),\n",
       " Row(area=0.0, prediction=8.89401585320033),\n",
       " Row(area=0.0, prediction=4.856621383669456),\n",
       " Row(area=0.0, prediction=5.256103502718791),\n",
       " Row(area=0.0, prediction=5.940880521150659),\n",
       " Row(area=0.0, prediction=6.68987674318813)]"
      ]
     },
     "execution_count": 31,
     "metadata": {},
     "output_type": "execute_result"
    }
   ],
   "source": [
    "## generating predictions\n",
    "predictions = rf_model.transform(vectorized_df).select('area', 'prediction')\n",
    "predictions.head(10)"
   ]
  },
  {
   "cell_type": "markdown",
   "metadata": {},
   "source": [
    "Now, lets evaluate how well the model is using `RegressionEvaluator`"
   ]
  },
  {
   "cell_type": "code",
   "execution_count": 32,
   "metadata": {},
   "outputs": [],
   "source": [
    "from pyspark.ml.evaluation import RegressionEvaluator\n",
    "evaluator = RegressionEvaluator(predictionCol='prediction', labelCol='area')"
   ]
  },
  {
   "cell_type": "code",
   "execution_count": 33,
   "metadata": {},
   "outputs": [
    {
     "data": {
      "text/plain": [
       "0.5440438100816761"
      ]
     },
     "execution_count": 33,
     "metadata": {},
     "output_type": "execute_result"
    }
   ],
   "source": [
    "## evaluating r^2\n",
    "evaluator.evaluate(predictions, {evaluator.metricName: 'r2'})"
   ]
  },
  {
   "cell_type": "code",
   "execution_count": 34,
   "metadata": {},
   "outputs": [
    {
     "data": {
      "text/plain": [
       "13.480850716212045"
      ]
     },
     "execution_count": 34,
     "metadata": {},
     "output_type": "execute_result"
    }
   ],
   "source": [
    "## evaluating mean absolute error\n",
    "evaluator.evaluate(predictions, {evaluator.metricName: 'mae'})"
   ]
  },
  {
   "cell_type": "markdown",
   "metadata": {},
   "source": []
  }
 ],
 "metadata": {
  "kernelspec": {
   "display_name": "Python (learn-env)",
   "language": "python",
   "name": "learn-env"
  },
  "language_info": {
   "codemirror_mode": {
    "name": "ipython",
    "version": 3
   },
   "file_extension": ".py",
   "mimetype": "text/x-python",
   "name": "python",
   "nbconvert_exporter": "python",
   "pygments_lexer": "ipython3",
   "version": "3.8.5"
  }
 },
 "nbformat": 4,
 "nbformat_minor": 4
}
